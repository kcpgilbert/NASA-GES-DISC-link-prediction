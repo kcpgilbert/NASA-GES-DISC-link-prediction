{
 "cells": [
  {
   "cell_type": "code",
   "execution_count": 1,
   "id": "78d795e1-013c-4af0-a76a-592be3020568",
   "metadata": {},
   "outputs": [],
   "source": [
    "import pandas as pd\n",
    "\n",
    "df = pd.read_csv('PredictedKeywords.csv')"
   ]
  },
  {
   "cell_type": "code",
   "execution_count": 2,
   "id": "727f3e2e-6f6a-474a-a943-e1eccf8eb792",
   "metadata": {},
   "outputs": [
    {
     "data": {
      "text/html": [
       "<div>\n",
       "<style scoped>\n",
       "    .dataframe tbody tr th:only-of-type {\n",
       "        vertical-align: middle;\n",
       "    }\n",
       "\n",
       "    .dataframe tbody tr th {\n",
       "        vertical-align: top;\n",
       "    }\n",
       "\n",
       "    .dataframe thead th {\n",
       "        text-align: right;\n",
       "    }\n",
       "</style>\n",
       "<table border=\"1\" class=\"dataframe\">\n",
       "  <thead>\n",
       "    <tr style=\"text-align: right;\">\n",
       "      <th></th>\n",
       "      <th>DATASET_SHORT</th>\n",
       "      <th>KEYWORD</th>\n",
       "      <th>probability</th>\n",
       "      <th>DATASET_LONG</th>\n",
       "      <th>DATASET_NODE_ID</th>\n",
       "      <th>KEYWORD_NODE_ID</th>\n",
       "    </tr>\n",
       "  </thead>\n",
       "  <tbody>\n",
       "    <tr>\n",
       "      <th>0</th>\n",
       "      <td>SNDRAQIML3CMCCP</td>\n",
       "      <td>surface winds</td>\n",
       "      <td>1.0</td>\n",
       "      <td>Sounder SIPS: AQUA AIRS IR + MW Level 3 CLIMCA...</td>\n",
       "      <td>772</td>\n",
       "      <td>1749</td>\n",
       "    </tr>\n",
       "    <tr>\n",
       "      <th>1</th>\n",
       "      <td>TOVSA5ND</td>\n",
       "      <td>precipitation rate</td>\n",
       "      <td>1.0</td>\n",
       "      <td>TOVS GLA 5 DAY GRIDS from NOAA-12 V01 (TOVSA5N...</td>\n",
       "      <td>1485</td>\n",
       "      <td>1714</td>\n",
       "    </tr>\n",
       "    <tr>\n",
       "      <th>2</th>\n",
       "      <td>TOVSA5ND</td>\n",
       "      <td>surface pressure</td>\n",
       "      <td>1.0</td>\n",
       "      <td>TOVS GLA 5 DAY GRIDS from NOAA-12 V01 (TOVSA5N...</td>\n",
       "      <td>1485</td>\n",
       "      <td>1668</td>\n",
       "    </tr>\n",
       "    <tr>\n",
       "      <th>3</th>\n",
       "      <td>MAT1NXSLV_CPR</td>\n",
       "      <td>skin temperature</td>\n",
       "      <td>1.0</td>\n",
       "      <td>MERRA 2D IAU Diagnostic, Single Level Meteorol...</td>\n",
       "      <td>1462</td>\n",
       "      <td>1628</td>\n",
       "    </tr>\n",
       "    <tr>\n",
       "      <th>4</th>\n",
       "      <td>PET_PU_3H025</td>\n",
       "      <td>upper air temperature</td>\n",
       "      <td>1.0</td>\n",
       "      <td>RM-OBS/PU Potential Evapotranspiration and Sup...</td>\n",
       "      <td>817</td>\n",
       "      <td>1670</td>\n",
       "    </tr>\n",
       "  </tbody>\n",
       "</table>\n",
       "</div>"
      ],
      "text/plain": [
       "     DATASET_SHORT                KEYWORD  probability  \\\n",
       "0  SNDRAQIML3CMCCP          surface winds          1.0   \n",
       "1         TOVSA5ND     precipitation rate          1.0   \n",
       "2         TOVSA5ND       surface pressure          1.0   \n",
       "3    MAT1NXSLV_CPR       skin temperature          1.0   \n",
       "4     PET_PU_3H025  upper air temperature          1.0   \n",
       "\n",
       "                                        DATASET_LONG  DATASET_NODE_ID  \\\n",
       "0  Sounder SIPS: AQUA AIRS IR + MW Level 3 CLIMCA...              772   \n",
       "1  TOVS GLA 5 DAY GRIDS from NOAA-12 V01 (TOVSA5N...             1485   \n",
       "2  TOVS GLA 5 DAY GRIDS from NOAA-12 V01 (TOVSA5N...             1485   \n",
       "3  MERRA 2D IAU Diagnostic, Single Level Meteorol...             1462   \n",
       "4  RM-OBS/PU Potential Evapotranspiration and Sup...              817   \n",
       "\n",
       "   KEYWORD_NODE_ID  \n",
       "0             1749  \n",
       "1             1714  \n",
       "2             1668  \n",
       "3             1628  \n",
       "4             1670  "
      ]
     },
     "execution_count": 2,
     "metadata": {},
     "output_type": "execute_result"
    }
   ],
   "source": [
    "df.head()"
   ]
  },
  {
   "cell_type": "code",
   "execution_count": 4,
   "id": "fd4d5d95-d532-48d4-8bae-4b9f78506b60",
   "metadata": {},
   "outputs": [
    {
     "data": {
      "text/plain": [
       "(532, 6)"
      ]
     },
     "execution_count": 4,
     "metadata": {},
     "output_type": "execute_result"
    }
   ],
   "source": [
    "df.shape"
   ]
  },
  {
   "cell_type": "code",
   "execution_count": 5,
   "id": "151cd535-ae9e-4dbd-820f-1a2ad92f0442",
   "metadata": {},
   "outputs": [
    {
     "name": "stdout",
     "output_type": "stream",
     "text": [
      "184\n"
     ]
    }
   ],
   "source": [
    "unique_datasets_count = df['DATASET_SHORT'].nunique()\n",
    "print(unique_datasets_count)"
   ]
  },
  {
   "cell_type": "code",
   "execution_count": 6,
   "id": "851e278b-cd02-4fe9-bf2f-2cf66ed269cd",
   "metadata": {},
   "outputs": [
    {
     "name": "stdout",
     "output_type": "stream",
     "text": [
      "DATASET_SHORT\n",
      "GSSTF              13\n",
      "SNDRJ1ML2RMSSUP    12\n",
      "AIRS2RET_NRT       10\n",
      "AIRH2SUP           10\n",
      "GSSTF_F08          10\n",
      "                   ..\n",
      "AIRS2RET            1\n",
      "M2I3NVAER           1\n",
      "AIRG2SSD_IRonly     1\n",
      "SNDRAQIL3CMCCP      1\n",
      "ML3DZO3             1\n",
      "Name: count, Length: 184, dtype: int64\n"
     ]
    }
   ],
   "source": [
    "# Get the counts of each unique name in the 'DATASET_SHORT' column\n",
    "name_counts = df['DATASET_SHORT'].value_counts()\n",
    "\n",
    "# Print the counts\n",
    "print(name_counts)"
   ]
  },
  {
   "cell_type": "code",
   "execution_count": null,
   "id": "79d9529d-aff9-4b67-92dc-31ef5d964175",
   "metadata": {},
   "outputs": [],
   "source": []
  }
 ],
 "metadata": {
  "kernelspec": {
   "display_name": "Python 3 (ipykernel)",
   "language": "python",
   "name": "python3"
  },
  "language_info": {
   "codemirror_mode": {
    "name": "ipython",
    "version": 3
   },
   "file_extension": ".py",
   "mimetype": "text/x-python",
   "name": "python",
   "nbconvert_exporter": "python",
   "pygments_lexer": "ipython3",
   "version": "3.8.11"
  }
 },
 "nbformat": 4,
 "nbformat_minor": 5
}
