{
 "cells": [
  {
   "cell_type": "code",
   "execution_count": 1,
   "id": "d4a4e5c4",
   "metadata": {},
   "outputs": [
    {
     "data": {
      "text/html": [
       "<table><tr><th>graphName</th><th>database</th><th>memoryUsage</th><th>sizeInBytes</th><th>nodeProjection</th><th>relationshipProjection</th><th>nodeQuery</th><th>relationshipQuery</th><th>nodeCount</th><th>relationshipCount</th><th>nodeFilter</th><th>relationshipFilter</th><th>density</th><th>creationTime</th><th>modificationTime</th><th>schema</th></tr><tr><td style=\"text-align:left\">in-memory-graph-1681323347597</td><td style=\"text-align:left\">neo4j</td><td style=\"text-align:left\"></td><td style=\"text-align:right\">-1</td><td style=\"text-align:left\">{__ALL__: {label: &#039;*&#039;, properties: {}}}</td><td style=\"text-align:left\">{relType: {orientation: &#039;UNDIRECTED&#039;, aggregation: &#039;DEFAULT&#039;, type: &#039;*&#039;, properties: {}}}</td><td style=\"text-align:right\">null</td><td style=\"text-align:right\">null</td><td style=\"text-align:right\">2002</td><td style=\"text-align:right\">30256</td><td style=\"text-align:right\">null</td><td style=\"text-align:right\">null</td><td style=\"text-align:right\">0.007552667222832141</td><td style=\"text-align:left\">datetime(&#039;2023-10-08T21:35:34.578036000+00:00&#039;)</td><td style=\"text-align:left\">datetime(&#039;2023-10-08T21:35:34.601544000+00:00&#039;)</td><td style=\"text-align:left\">{relationships: {relType: {}}, nodes: {__ALL__: {}}}</td></tr></table>"
      ],
      "text/plain": [
       " graphName                     | database | memoryUsage | sizeInBytes | nodeProjection                          | relationshipProjection                                                                    | nodeQuery | relationshipQuery | nodeCount | relationshipCount | nodeFilter | relationshipFilter |              density | creationTime                                    | modificationTime                                | schema                                               \n",
       "-------------------------------|----------|-------------|-------------|-----------------------------------------|-------------------------------------------------------------------------------------------|-----------|-------------------|-----------|-------------------|------------|--------------------|----------------------|-------------------------------------------------|-------------------------------------------------|------------------------------------------------------\n",
       " in-memory-graph-1681323347597 | neo4j    |             |          -1 | {__ALL__: {label: '*', properties: {}}} | {relType: {orientation: 'UNDIRECTED', aggregation: 'DEFAULT', type: '*', properties: {}}} |      null |              null |      2002 |             30256 |       null |               null | 0.007552667222832141 | datetime('2023-10-08T21:35:34.578036000+00:00') | datetime('2023-10-08T21:35:34.601544000+00:00') | {relationships: {relType: {}}, nodes: {__ALL__: {}}} "
      ]
     },
     "execution_count": 1,
     "metadata": {},
     "output_type": "execute_result"
    }
   ],
   "source": [
    "from py2neo import Graph, Node, Relationship\n",
    "# Get Neo4j client\n",
    "graph = Graph(\"bolt://localhost:7687\", auth=(\"neo4j\", \"neo4j\"))\n",
    "\n",
    "relationship_proj = '''\n",
    "{\n",
    "    relType: {\n",
    "      type: '*',\n",
    "      orientation: 'UNDIRECTED',\n",
    "      properties: {}\n",
    "    }\n",
    "  }\n",
    "'''\n",
    "empty_brances = '''\n",
    "{}\n",
    "'''\n",
    "\n",
    "projection_command = f'''\n",
    "CALL gds.graph.create('in-memory-graph-1681323347597', \"*\",{relationship_proj}, {empty_brances});\n",
    "'''\n",
    "\n",
    "graph.run(projection_command)\n",
    "\n",
    "config = '''\n",
    "{\n",
    "  relationshipWeightProperty: null,\n",
    "  embeddingDimension: 10,\n",
    "  normalizationStrength: 0.5,\n",
    "  writeProperty: 'fastrp'\n",
    "}\n",
    "'''\n",
    "generation_fastrp = f'''\n",
    "CALL gds.fastRP.write(\"in-memory-graph-1681323347597\", {config});\n",
    "'''\n",
    "\n",
    "graph.run(generation_fastrp)\n",
    "\n",
    "drop_graph_command = f'''\n",
    "CALL gds.graph.drop('in-memory-graph-1681323347597');\n",
    "'''\n",
    "graph.run(drop_graph_command)\n",
    "\n"
   ]
  }
 ],
 "metadata": {
  "kernelspec": {
   "display_name": "Python 3",
   "language": "python",
   "name": "python3"
  },
  "language_info": {
   "codemirror_mode": {
    "name": "ipython",
    "version": 3
   },
   "file_extension": ".py",
   "mimetype": "text/x-python",
   "name": "python",
   "nbconvert_exporter": "python",
   "pygments_lexer": "ipython3",
   "version": "3.9.7"
  }
 },
 "nbformat": 4,
 "nbformat_minor": 5
}
